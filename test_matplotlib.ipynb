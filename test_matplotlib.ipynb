{
 "cells": [
  {
   "cell_type": "code",
   "execution_count": null,
   "id": "03f4ceb7",
   "metadata": {},
   "outputs": [],
   "source": [
    "%matplotlib inline\n",
    "import numpy as np\n",
    "import matplotlib.pyplot as plt"
   ]
  },
  {
   "cell_type": "code",
   "execution_count": null,
   "id": "cf71c415",
   "metadata": {},
   "outputs": [],
   "source": [
    "x = np.arange(0, 5, 0.1) #x=[0..5] in 0.1 chunks\n",
    "y = np.sin(x) #y = sin(x)\n",
    "plt.plot(x,y) #makes a plot\n",
    "plt.xlabel('x') #label x axis\n",
    "plt.ylabel('sin(x)') #label y axis\n",
    "plt.show()"
   ]
  },
  {
   "cell_type": "code",
   "execution_count": null,
   "id": "2c555e41",
   "metadata": {},
   "outputs": [],
   "source": [
    "x = np.arange(0, 5, 0.1) #x=[0..5] in 0.1 chunks\n",
    "y = np.sin(x) #y = sin(x)\n",
    "plt.plot(x,y) #makes a plot\n",
    "plt.xlabel('x') #label x axis\n",
    "plt.ylabel('sin(x)') #label y axis\n",
    "plt.savefig('sinx.png',bbox_inches='tight',dpi=600)"
   ]
  },
  {
   "cell_type": "code",
   "execution_count": null,
   "id": "9dc894b4",
   "metadata": {},
   "outputs": [],
   "source": []
  }
 ],
 "metadata": {
  "kernelspec": {
   "display_name": "Python 3 (ipykernel)",
   "language": "python",
   "name": "python3"
  },
  "language_info": {
   "codemirror_mode": {
    "name": "ipython",
    "version": 3
   },
   "file_extension": ".py",
   "mimetype": "text/x-python",
   "name": "python",
   "nbconvert_exporter": "python",
   "pygments_lexer": "ipython3",
   "version": "3.9.7"
  }
 },
 "nbformat": 4,
 "nbformat_minor": 5
}
